{
  "cells": [
    {
      "cell_type": "markdown",
      "metadata": {
        "id": "HVo1yWN_CYlW"
      },
      "source": [
        "### Task 1. \n",
        "\n",
        "#### MapReduce\n",
        "\n",
        "Use MapReduce to calculate the average housing price in each zip code and filter out records in which gross sqft is less than 500 and sale price is less than 100000. Round the average housing price to 2 decimals, and sort the output by housing price ascending."
      ]
    },
    {
      "cell_type": "code",
      "execution_count": 32,
      "metadata": {
        "colab": {
          "base_uri": "https://localhost:8080/"
        },
        "id": "kZ2q6XcNCYlZ",
        "outputId": "196a3c85-2d0a-4443-e83e-06144427890b",
        "scrolled": true
      },
      "outputs": [
        {
          "name": "stdout",
          "output_type": "stream",
          "text": [
            "--2022-02-13 05:36:38--  https://github.com/CUSP2022ADS/Data/raw/main/housingSalseSample.csv\n",
            "Resolving github.com (github.com)... 140.82.112.4\n",
            "Connecting to github.com (github.com)|140.82.112.4|:443... connected.\n",
            "HTTP request sent, awaiting response... 302 Found\n",
            "Location: https://raw.githubusercontent.com/CUSP2022ADS/Data/main/housingSalseSample.csv [following]\n",
            "--2022-02-13 05:36:39--  https://raw.githubusercontent.com/CUSP2022ADS/Data/main/housingSalseSample.csv\n",
            "Resolving raw.githubusercontent.com (raw.githubusercontent.com)... 185.199.108.133, 185.199.109.133, 185.199.110.133, ...\n",
            "Connecting to raw.githubusercontent.com (raw.githubusercontent.com)|185.199.108.133|:443... connected.\n",
            "HTTP request sent, awaiting response... 200 OK\n",
            "Length: 6167298 (5.9M) [text/plain]\n",
            "Saving to: ‘housingSalseSample.csv’\n",
            "\n",
            "housingSalseSample. 100%[===================>]   5.88M  --.-KB/s    in 0.08s   \n",
            "\n",
            "2022-02-13 05:36:39 (77.0 MB/s) - ‘housingSalseSample.csv’ saved [6167298/6167298]\n",
            "\n"
          ]
        }
      ],
      "source": [
        "!wget -O housingSalseSample.csv https://github.com/CUSP2022ADS/Data/raw/main/housingSalseSample.csv"
      ]
    },
    {
      "cell_type": "code",
      "execution_count": 3,
      "metadata": {
        "id": "uqQkCa87QKvI"
      },
      "outputs": [],
      "source": [
        "import pandas as pd\n",
        "import csv\n",
        "from functools import reduce\n",
        "from multiprocessing import Pool"
      ]
    },
    {
      "cell_type": "code",
      "execution_count": 58,
      "metadata": {
        "colab": {
          "base_uri": "https://localhost:8080/",
          "height": 423
        },
        "id": "9Vg5eNxfCYla",
        "outputId": "3217b683-18fd-4208-e514-6b80f6ab6ff0"
      },
      "outputs": [
        {
          "data": {
            "text/html": [
              "\n",
              "  <div id=\"df-bc076607-20db-4646-b492-efb6e6400d81\">\n",
              "    <div class=\"colab-df-container\">\n",
              "      <div>\n",
              "<style scoped>\n",
              "    .dataframe tbody tr th:only-of-type {\n",
              "        vertical-align: middle;\n",
              "    }\n",
              "\n",
              "    .dataframe tbody tr th {\n",
              "        vertical-align: top;\n",
              "    }\n",
              "\n",
              "    .dataframe thead th {\n",
              "        text-align: right;\n",
              "    }\n",
              "</style>\n",
              "<table border=\"1\" class=\"dataframe\">\n",
              "  <thead>\n",
              "    <tr style=\"text-align: right;\">\n",
              "      <th></th>\n",
              "      <th>BOROUGH</th>\n",
              "      <th>BLOCK</th>\n",
              "      <th>LOT</th>\n",
              "      <th>BUILDING CLASS CATEGORY</th>\n",
              "      <th>ADDRESS</th>\n",
              "      <th>ZIP CODE</th>\n",
              "      <th>GROSS SQUARE FEET</th>\n",
              "      <th>YEAR BUILT</th>\n",
              "      <th>SALE PRICE</th>\n",
              "      <th>SALE DATE</th>\n",
              "    </tr>\n",
              "  </thead>\n",
              "  <tbody>\n",
              "    <tr>\n",
              "      <th>0</th>\n",
              "      <td>1</td>\n",
              "      <td>1170</td>\n",
              "      <td>1010</td>\n",
              "      <td>17  CONDOPS</td>\n",
              "      <td>200 WEST 79TH STREET, 7P</td>\n",
              "      <td>10024.0</td>\n",
              "      <td>0.0</td>\n",
              "      <td>1975.0</td>\n",
              "      <td>551000</td>\n",
              "      <td>2011-07-28</td>\n",
              "    </tr>\n",
              "    <tr>\n",
              "      <th>1</th>\n",
              "      <td>4</td>\n",
              "      <td>1275</td>\n",
              "      <td>45</td>\n",
              "      <td>10  COOPS - ELEVATOR APARTMENTS</td>\n",
              "      <td>35-35 75TH STREET, 304</td>\n",
              "      <td>11372.0</td>\n",
              "      <td>0.0</td>\n",
              "      <td>1941.0</td>\n",
              "      <td>338000</td>\n",
              "      <td>2011-05-20</td>\n",
              "    </tr>\n",
              "    <tr>\n",
              "      <th>2</th>\n",
              "      <td>3</td>\n",
              "      <td>5746</td>\n",
              "      <td>58</td>\n",
              "      <td>03  THREE FAMILY DWELLINGS</td>\n",
              "      <td>1249 65TH   STREET</td>\n",
              "      <td>11219.0</td>\n",
              "      <td>3861.0</td>\n",
              "      <td>1910.0</td>\n",
              "      <td>1250000</td>\n",
              "      <td>2014-12-04</td>\n",
              "    </tr>\n",
              "    <tr>\n",
              "      <th>3</th>\n",
              "      <td>4</td>\n",
              "      <td>2086</td>\n",
              "      <td>50</td>\n",
              "      <td>10  COOPS - ELEVATOR APARTMENTS</td>\n",
              "      <td>97-07 63 ROAD, 8F</td>\n",
              "      <td>11374.0</td>\n",
              "      <td>0.0</td>\n",
              "      <td>1955.0</td>\n",
              "      <td>253000</td>\n",
              "      <td>2016-03-09</td>\n",
              "    </tr>\n",
              "    <tr>\n",
              "      <th>4</th>\n",
              "      <td>4</td>\n",
              "      <td>5028</td>\n",
              "      <td>7</td>\n",
              "      <td>10  COOPS - ELEVATOR APARTMENTS</td>\n",
              "      <td>38-15 149TH   STREET, 1F</td>\n",
              "      <td>11354.0</td>\n",
              "      <td>0.0</td>\n",
              "      <td>1955.0</td>\n",
              "      <td>0</td>\n",
              "      <td>2016-12-30</td>\n",
              "    </tr>\n",
              "    <tr>\n",
              "      <th>...</th>\n",
              "      <td>...</td>\n",
              "      <td>...</td>\n",
              "      <td>...</td>\n",
              "      <td>...</td>\n",
              "      <td>...</td>\n",
              "      <td>...</td>\n",
              "      <td>...</td>\n",
              "      <td>...</td>\n",
              "      <td>...</td>\n",
              "      <td>...</td>\n",
              "    </tr>\n",
              "    <tr>\n",
              "      <th>49995</th>\n",
              "      <td>5</td>\n",
              "      <td>143</td>\n",
              "      <td>66</td>\n",
              "      <td>01  ONE FAMILY DWELLINGS</td>\n",
              "      <td>29 NORTH MADA AVENUE</td>\n",
              "      <td>10310.0</td>\n",
              "      <td>1740.0</td>\n",
              "      <td>1915.0</td>\n",
              "      <td>0</td>\n",
              "      <td>2014-10-15</td>\n",
              "    </tr>\n",
              "    <tr>\n",
              "      <th>49996</th>\n",
              "      <td>4</td>\n",
              "      <td>4686</td>\n",
              "      <td>34</td>\n",
              "      <td>02  TWO FAMILY DWELLINGS</td>\n",
              "      <td>150-38 17TH   ROAD</td>\n",
              "      <td>11357.0</td>\n",
              "      <td>2945.0</td>\n",
              "      <td>1925.0</td>\n",
              "      <td>970000</td>\n",
              "      <td>2014-10-28</td>\n",
              "    </tr>\n",
              "    <tr>\n",
              "      <th>49997</th>\n",
              "      <td>4</td>\n",
              "      <td>6670</td>\n",
              "      <td>1</td>\n",
              "      <td>09  COOPS - WALKUP APARTMENTS</td>\n",
              "      <td>144-32 78TH AVENUE, 2F</td>\n",
              "      <td>11367.0</td>\n",
              "      <td>0.0</td>\n",
              "      <td>1949.0</td>\n",
              "      <td>140000</td>\n",
              "      <td>2014-10-17</td>\n",
              "    </tr>\n",
              "    <tr>\n",
              "      <th>49998</th>\n",
              "      <td>1</td>\n",
              "      <td>1247</td>\n",
              "      <td>37</td>\n",
              "      <td>10  COOPS - ELEVATOR APARTMENTS</td>\n",
              "      <td>302 WEST 86TH STREET, 1A</td>\n",
              "      <td>10024.0</td>\n",
              "      <td>0.0</td>\n",
              "      <td>1917.0</td>\n",
              "      <td>880000</td>\n",
              "      <td>2012-10-31</td>\n",
              "    </tr>\n",
              "    <tr>\n",
              "      <th>49999</th>\n",
              "      <td>3</td>\n",
              "      <td>305</td>\n",
              "      <td>54</td>\n",
              "      <td>01  ONE FAMILY DWELLINGS</td>\n",
              "      <td>2 WARREN PLACE</td>\n",
              "      <td>11201.0</td>\n",
              "      <td>1056.0</td>\n",
              "      <td>1899.0</td>\n",
              "      <td>1300000</td>\n",
              "      <td>2013-06-07</td>\n",
              "    </tr>\n",
              "  </tbody>\n",
              "</table>\n",
              "<p>50000 rows × 10 columns</p>\n",
              "</div>\n",
              "      <button class=\"colab-df-convert\" onclick=\"convertToInteractive('df-bc076607-20db-4646-b492-efb6e6400d81')\"\n",
              "              title=\"Convert this dataframe to an interactive table.\"\n",
              "              style=\"display:none;\">\n",
              "        \n",
              "  <svg xmlns=\"http://www.w3.org/2000/svg\" height=\"24px\"viewBox=\"0 0 24 24\"\n",
              "       width=\"24px\">\n",
              "    <path d=\"M0 0h24v24H0V0z\" fill=\"none\"/>\n",
              "    <path d=\"M18.56 5.44l.94 2.06.94-2.06 2.06-.94-2.06-.94-.94-2.06-.94 2.06-2.06.94zm-11 1L8.5 8.5l.94-2.06 2.06-.94-2.06-.94L8.5 2.5l-.94 2.06-2.06.94zm10 10l.94 2.06.94-2.06 2.06-.94-2.06-.94-.94-2.06-.94 2.06-2.06.94z\"/><path d=\"M17.41 7.96l-1.37-1.37c-.4-.4-.92-.59-1.43-.59-.52 0-1.04.2-1.43.59L10.3 9.45l-7.72 7.72c-.78.78-.78 2.05 0 2.83L4 21.41c.39.39.9.59 1.41.59.51 0 1.02-.2 1.41-.59l7.78-7.78 2.81-2.81c.8-.78.8-2.07 0-2.86zM5.41 20L4 18.59l7.72-7.72 1.47 1.35L5.41 20z\"/>\n",
              "  </svg>\n",
              "      </button>\n",
              "      \n",
              "  <style>\n",
              "    .colab-df-container {\n",
              "      display:flex;\n",
              "      flex-wrap:wrap;\n",
              "      gap: 12px;\n",
              "    }\n",
              "\n",
              "    .colab-df-convert {\n",
              "      background-color: #E8F0FE;\n",
              "      border: none;\n",
              "      border-radius: 50%;\n",
              "      cursor: pointer;\n",
              "      display: none;\n",
              "      fill: #1967D2;\n",
              "      height: 32px;\n",
              "      padding: 0 0 0 0;\n",
              "      width: 32px;\n",
              "    }\n",
              "\n",
              "    .colab-df-convert:hover {\n",
              "      background-color: #E2EBFA;\n",
              "      box-shadow: 0px 1px 2px rgba(60, 64, 67, 0.3), 0px 1px 3px 1px rgba(60, 64, 67, 0.15);\n",
              "      fill: #174EA6;\n",
              "    }\n",
              "\n",
              "    [theme=dark] .colab-df-convert {\n",
              "      background-color: #3B4455;\n",
              "      fill: #D2E3FC;\n",
              "    }\n",
              "\n",
              "    [theme=dark] .colab-df-convert:hover {\n",
              "      background-color: #434B5C;\n",
              "      box-shadow: 0px 1px 3px 1px rgba(0, 0, 0, 0.15);\n",
              "      filter: drop-shadow(0px 1px 2px rgba(0, 0, 0, 0.3));\n",
              "      fill: #FFFFFF;\n",
              "    }\n",
              "  </style>\n",
              "\n",
              "      <script>\n",
              "        const buttonEl =\n",
              "          document.querySelector('#df-bc076607-20db-4646-b492-efb6e6400d81 button.colab-df-convert');\n",
              "        buttonEl.style.display =\n",
              "          google.colab.kernel.accessAllowed ? 'block' : 'none';\n",
              "\n",
              "        async function convertToInteractive(key) {\n",
              "          const element = document.querySelector('#df-bc076607-20db-4646-b492-efb6e6400d81');\n",
              "          const dataTable =\n",
              "            await google.colab.kernel.invokeFunction('convertToInteractive',\n",
              "                                                     [key], {});\n",
              "          if (!dataTable) return;\n",
              "\n",
              "          const docLinkHtml = 'Like what you see? Visit the ' +\n",
              "            '<a target=\"_blank\" href=https://colab.research.google.com/notebooks/data_table.ipynb>data table notebook</a>'\n",
              "            + ' to learn more about interactive tables.';\n",
              "          element.innerHTML = '';\n",
              "          dataTable['output_type'] = 'display_data';\n",
              "          await google.colab.output.renderOutput(dataTable, element);\n",
              "          const docLink = document.createElement('div');\n",
              "          docLink.innerHTML = docLinkHtml;\n",
              "          element.appendChild(docLink);\n",
              "        }\n",
              "      </script>\n",
              "    </div>\n",
              "  </div>\n",
              "  "
            ],
            "text/plain": [
              "       BOROUGH  BLOCK   LOT  ... YEAR BUILT SALE PRICE   SALE DATE\n",
              "0            1   1170  1010  ...     1975.0     551000  2011-07-28\n",
              "1            4   1275    45  ...     1941.0     338000  2011-05-20\n",
              "2            3   5746    58  ...     1910.0    1250000  2014-12-04\n",
              "3            4   2086    50  ...     1955.0     253000  2016-03-09\n",
              "4            4   5028     7  ...     1955.0          0  2016-12-30\n",
              "...        ...    ...   ...  ...        ...        ...         ...\n",
              "49995        5    143    66  ...     1915.0          0  2014-10-15\n",
              "49996        4   4686    34  ...     1925.0     970000  2014-10-28\n",
              "49997        4   6670     1  ...     1949.0     140000  2014-10-17\n",
              "49998        1   1247    37  ...     1917.0     880000  2012-10-31\n",
              "49999        3    305    54  ...     1899.0    1300000  2013-06-07\n",
              "\n",
              "[50000 rows x 10 columns]"
            ]
          },
          "execution_count": 58,
          "metadata": {},
          "output_type": "execute_result"
        }
      ],
      "source": [
        "housing=pd.read_csv('housingSalseSample.csv')"
      ]
    },
    {
      "cell_type": "code",
      "execution_count": 60,
      "metadata": {
        "colab": {
          "base_uri": "https://localhost:8080/"
        },
        "id": "_3SaQlxHoUP9",
        "outputId": "9a049f19-ae64-46aa-96e0-440fbe2a9934"
      },
      "outputs": [
        {
          "data": {
            "text/plain": [
              "BOROUGH                      int64\n",
              "BLOCK                        int64\n",
              "LOT                          int64\n",
              "BUILDING CLASS CATEGORY     object\n",
              "ADDRESS                     object\n",
              "ZIP CODE                   float64\n",
              "GROSS SQUARE FEET          float64\n",
              "YEAR BUILT                 float64\n",
              "SALE PRICE                   int64\n",
              "SALE DATE                   object\n",
              "dtype: object"
            ]
          },
          "execution_count": 60,
          "metadata": {},
          "output_type": "execute_result"
        }
      ],
      "source": [
        "housing.dtypes"
      ]
    },
    {
      "cell_type": "code",
      "execution_count": 185,
      "metadata": {
        "id": "mgtltIQeQsn_"
      },
      "outputs": [],
      "source": [
        "def returnInfo(record): \n",
        "    return(record['ZIP CODE'],record['GROSS SQUARE FEET'],record['SALE PRICE'])\n",
        "\n",
        "def filterHouse(record):\n",
        "    if record[1] == '':\n",
        "      return False\n",
        "    else:\n",
        "      SP=record[2]\n",
        "      GSF=record[1]\n",
        "      if float(SP)>=100000 and float(GSF)>=500:\n",
        "        return True\n",
        "      else:\n",
        "        return False\n",
        "\n",
        "def PriceList(result,record):\n",
        "    zipcode,price=record[0],float(record[2])\n",
        "    result[zipcode]=result.get(zipcode,[])+[price]\n",
        "    return result\n",
        "\n",
        "def averagePrice(record):\n",
        "    zipcode,price=record[0],record[1]\n",
        "    return [zipcode,round(sum(price)/len(price),2)]\n"
      ]
    },
    {
      "cell_type": "code",
      "execution_count": 186,
      "metadata": {
        "colab": {
          "base_uri": "https://localhost:8080/"
        },
        "id": "f5p1idWulKNL",
        "outputId": "1651da94-155e-4994-fda5-3e3c63615c81"
      },
      "outputs": [
        {
          "data": {
            "text/plain": [
              "[('10024.0', '0.0', '551000'),\n",
              " ('11372.0', '0.0', '338000'),\n",
              " ('11219.0', '3861.0', '1250000')]"
            ]
          },
          "execution_count": 186,
          "metadata": {},
          "output_type": "execute_result"
        }
      ],
      "source": [
        "with open('housingSalseSample.csv', 'r') as fi:\n",
        "    reader = csv.DictReader(fi)\n",
        "    output1 = list(map(returnInfo,reader))"
      ]
    },
    {
      "cell_type": "code",
      "execution_count": 187,
      "metadata": {
        "colab": {
          "base_uri": "https://localhost:8080/"
        },
        "id": "3IhZoFhYmJDX",
        "outputId": "603b1200-7468-431d-8ae0-ddaeb11f7d0e"
      },
      "outputs": [
        {
          "data": {
            "text/plain": [
              "[('11219.0', '3861.0', '1250000'),\n",
              " ('10472.0', '3150.0', '778961'),\n",
              " ('11214.0', '5054.0', '2000000')]"
            ]
          },
          "execution_count": 187,
          "metadata": {},
          "output_type": "execute_result"
        }
      ],
      "source": [
        "output2 = list(filter(filterHouse, output1))"
      ]
    },
    {
      "cell_type": "code",
      "execution_count": 193,
      "metadata": {
        "id": "pYqwwBqH0ycW"
      },
      "outputs": [],
      "source": [
        "output3=list(map(averagePrice,list(reduce(PriceList,output2,{}).items())))"
      ]
    },
    {
      "cell_type": "code",
      "execution_count": 194,
      "metadata": {
        "colab": {
          "base_uri": "https://localhost:8080/"
        },
        "id": "NUj7U-UUHUw-",
        "outputId": "e4303659-04a9-4f3a-f82e-3ff3b84a6266"
      },
      "outputs": [
        {
          "data": {
            "text/plain": [
              "[['11219.0', 1327215.77],\n",
              " ['10472.0', 795404.67],\n",
              " ['11214.0', 1035225.83],\n",
              " ['11385.0', 873371.88],\n",
              " ['11235.0', 982253.76],\n",
              " ['11412.0', 399155.21],\n",
              " ['11369.0', 622791.59],\n",
              " ['11419.0', 492735.96],\n",
              " ['11694.0', 730476.88],\n",
              " ['11367.0', 768107.9],\n",
              " ['10308.0', 527758.86],\n",
              " ['11356.0', 735012.49],\n",
              " ['11234.0', 664201.65],\n",
              " ['10024.0', 7054032.29],\n",
              " ['11215.0', 2582640.07],\n",
              " ['11236.0', 596680.29],\n",
              " ['11208.0', 743435.28],\n",
              " ['10065.0', 15705059.6],\n",
              " ['10473.0', 1030045.55],\n",
              " ['11435.0', 731394.99],\n",
              " ['11228.0', 880629.64],\n",
              " ['11217.0', 3225012.91],\n",
              " ['11220.0', 1216734.69],\n",
              " ['11207.0', 613667.71],\n",
              " ['10304.0', 602840.01],\n",
              " ['10026.0', 4545066.9],\n",
              " ['11375.0', 1056215.05],\n",
              " ['11421.0', 568870.12],\n",
              " ['11223.0', 1318544.52],\n",
              " ['11366.0', 780072.02],\n",
              " ['11213.0', 1012455.99],\n",
              " ['11211.0', 2634153.86],\n",
              " ['10469.0', 434094.31],\n",
              " ['11354.0', 2547334.39],\n",
              " ['11229.0', 1068231.97],\n",
              " ['11230.0', 1564806.72],\n",
              " ['11222.0', 3227038.18],\n",
              " ['10462.0', 1698937.45],\n",
              " ['11360.0', 1028323.12],\n",
              " ['11693.0', 723650.8],\n",
              " ['10128.0', 5519040.86],\n",
              " ['11378.0', 1037011.15],\n",
              " ['10310.0', 445008.71],\n",
              " ['10307.0', 645944.47],\n",
              " ['10031.0', 3142105.56],\n",
              " ['11373.0', 1204621.83],\n",
              " ['10306.0', 506964.65],\n",
              " ['11355.0', 1248824.73],\n",
              " ['11358.0', 1035409.18],\n",
              " ['11101.0', 2949586.8],\n",
              " ['11357.0', 884996.2],\n",
              " ['10002.0', 6028155.38],\n",
              " ['10457.0', 1379484.73],\n",
              " ['11436.0', 395079.8],\n",
              " ['11209.0', 1311731.48],\n",
              " ['11218.0', 1992528.41],\n",
              " ['11226.0', 1992095.52],\n",
              " ['11420.0', 457267.17],\n",
              " ['11428.0', 466973.59],\n",
              " ['11237.0', 1702152.19],\n",
              " ['11105.0', 1514668.13],\n",
              " ['10305.0', 495058.45],\n",
              " ['10314.0', 536760.2],\n",
              " ['11221.0', 915948.57],\n",
              " ['10005.0', 1188166.67],\n",
              " ['11204.0', 1017000.72],\n",
              " ['11203.0', 663850.74],\n",
              " ['11434.0', 411018.06],\n",
              " ['10075.0', 11751041.67],\n",
              " ['11429.0', 427455.36],\n",
              " ['11365.0', 812889.32],\n",
              " ['11206.0', 1699763.72],\n",
              " ['10467.0', 1469653.24],\n",
              " ['11414.0', 569275.75],\n",
              " ['10030.0', 3990743.89],\n",
              " ['10464.0', 659633.33],\n",
              " ['10465.0', 478217.51],\n",
              " ['10029.0', 7890760.87],\n",
              " ['11364.0', 786463.58],\n",
              " ['10474.0', 1590918.07],\n",
              " ['11212.0', 829900.79],\n",
              " ['11224.0', 1410246.46],\n",
              " ['11379.0', 669188.11],\n",
              " ['11361.0', 949232.91],\n",
              " ['10463.0', 2226333.86],\n",
              " ['11692.0', 548334.38],\n",
              " ['11106.0', 4407183.39],\n",
              " ['10471.0', 1374612.28],\n",
              " ['11231.0', 3617762.29],\n",
              " ['11433.0', 451422.63],\n",
              " ['10309.0', 606653.04],\n",
              " ['11210.0', 889549.23],\n",
              " ['10302.0', 470090.74],\n",
              " ['10038.0', 8659505.88],\n",
              " ['11413.0', 495741.91],\n",
              " ['10027.0', 3405840.84],\n",
              " ['11427.0', 594743.08],\n",
              " ['10303.0', 468303.98],\n",
              " ['10466.0', 450581.63],\n",
              " ['11426.0', 1208204.83],\n",
              " ['10461.0', 649394.14],\n",
              " ['10301.0', 513330.6],\n",
              " ['10312.0', 546918.9],\n",
              " ['10013.0', 10239049.18],\n",
              " ['11225.0', 1508880.23],\n",
              " ['11205.0', 2054203.77],\n",
              " ['11411.0', 413113.17],\n",
              " ['11416.0', 534390.91],\n",
              " ['11201.0', 5135829.1],\n",
              " ['11374.0', 3766645.53],\n",
              " ['11233.0', 796036.56],\n",
              " ['11103.0', 1865416.57],\n",
              " ['11423.0', 813477.31],\n",
              " ['10028.0', 8635561.09],\n",
              " ['11104.0', 1579437.59],\n",
              " ['10018.0', 42762032.3],\n",
              " ['10023.0', 5241292.68],\n",
              " ['11368.0', 822431.66],\n",
              " ['10460.0', 741585.06],\n",
              " ['11691.0', 768303.87],\n",
              " ['10280.0', 960403.0],\n",
              " ['10455.0', 1181777.76],\n",
              " ['10016.0', 11212094.22],\n",
              " ['10019.0', 15068211.8],\n",
              " ['11422.0', 464823.88],\n",
              " ['10003.0', 7125054.41],\n",
              " ['10470.0', 687713.11],\n",
              " ['11216.0', 1240619.76],\n",
              " ['11417.0', 601672.68],\n",
              " ['10040.0', 5728003.78],\n",
              " ['10009.0', 7219627.55],\n",
              " ['11238.0', 2292420.37],\n",
              " ['10459.0', 1282276.5],\n",
              " ['11377.0', 1093352.9],\n",
              " ['10011.0', 26492519.91],\n",
              " ['11418.0', 495990.12],\n",
              " ['10025.0', 3726184.29],\n",
              " ['11249.0', 5810922.5],\n",
              " ['10022.0', 17016283.66],\n",
              " ['10036.0', 17945949.82],\n",
              " ['10458.0', 1550369.86],\n",
              " ['10454.0', 1834930.41],\n",
              " ['10012.0', 7524261.25],\n",
              " ['10004.0', 75389177.6],\n",
              " ['11370.0', 945969.32],\n",
              " ['11432.0', 748544.99],\n",
              " ['10452.0', 2887295.25],\n",
              " ['10453.0', 1894081.43],\n",
              " ['10456.0', 1300910.13],\n",
              " ['11004.0', 593816.5],\n",
              " ['11372.0', 1591459.07],\n",
              " ['11363.0', 971187.5],\n",
              " ['10034.0', 4226299.33],\n",
              " ['10451.0', 4159695.24],\n",
              " ['11232.0', 1888808.34],\n",
              " ['11239.0', 415614.0],\n",
              " ['11102.0', 3416148.29],\n",
              " ['10010.0', 23156362.71],\n",
              " ['10032.0', 5458796.05],\n",
              " ['10035.0', 2766864.58],\n",
              " ['10017.0', 47908732.14],\n",
              " ['11001.0', 528502.94],\n",
              " ['10468.0', 1968299.19],\n",
              " ['10014.0', 11315136.8],\n",
              " ['11362.0', 950791.67],\n",
              " ['10069.0', 2291250.0],\n",
              " ['11415.0', 615667.81],\n",
              " ['10001.0', 37657214.29],\n",
              " ['11040.0', 534166.67],\n",
              " ['10021.0', 9673716.44],\n",
              " ['10475.0', 2240271.88],\n",
              " ['10037.0', 1256848.33],\n",
              " ['10033.0', 9181663.73],\n",
              " ['10007.0', 4819929.33],\n",
              " ['10803.0', 995000.0],\n",
              " ['11109.0', 2452500.0],\n",
              " ['10039.0', 10773693.0],\n",
              " ['10006.0', 752666.67],\n",
              " ['0.0', 1796413.5]]"
            ]
          },
          "execution_count": 194,
          "metadata": {},
          "output_type": "execute_result"
        }
      ],
      "source": [
        "output3"
      ]
    },
    {
      "cell_type": "code",
      "execution_count": 204,
      "metadata": {
        "id": "ldSMIAyJHyka"
      },
      "outputs": [],
      "source": [
        "output=sorted(output3,key=lambda x:x[1])\n",
        "\n"
      ]
    },
    {
      "cell_type": "code",
      "execution_count": 206,
      "metadata": {
        "id": "V3T1xq45CYlb"
      },
      "outputs": [],
      "source": [
        "'''grading function\n",
        "please pass your output into this function and upload the generated csv file \n",
        "together with your notebook to your GitHub repo'''\n",
        "\n",
        "def grading(output):\n",
        "    import pandas as pd\n",
        "    pd.DataFrame(output,columns=['zipcode','price']).to_csv('output1.csv',index=False)\n",
        "\n",
        "grading(output)"
      ]
    },
    {
      "cell_type": "markdown",
      "metadata": {
        "id": "MlKE1zJZCYlb"
      },
      "source": [
        "### Task 2. \n",
        "#### multiprocessing and Chunk"
      ]
    },
    {
      "cell_type": "code",
      "execution_count": 111,
      "metadata": {
        "colab": {
          "base_uri": "https://localhost:8080/"
        },
        "id": "gUgQd3pTCYlc",
        "outputId": "622e23c9-fd28-4f04-ade4-79914290e88f"
      },
      "outputs": [
        {
          "name": "stdout",
          "output_type": "stream",
          "text": [
            "--2022-02-13 06:50:25--  https://raw.githubusercontent.com/CUSP2022ADS/Data/main/ADSSession2Task2Data.csv\n",
            "Resolving raw.githubusercontent.com (raw.githubusercontent.com)... 185.199.108.133, 185.199.109.133, 185.199.110.133, ...\n",
            "Connecting to raw.githubusercontent.com (raw.githubusercontent.com)|185.199.108.133|:443... connected.\n",
            "HTTP request sent, awaiting response... 200 OK\n",
            "Length: 279369 (273K) [text/plain]\n",
            "Saving to: ‘ADSSession2Task2Data.csv’\n",
            "\n",
            "\rADSSession2Task2Dat   0%[                    ]       0  --.-KB/s               \rADSSession2Task2Dat 100%[===================>] 272.82K  --.-KB/s    in 0.03s   \n",
            "\n",
            "2022-02-13 06:50:26 (8.93 MB/s) - ‘ADSSession2Task2Data.csv’ saved [279369/279369]\n",
            "\n"
          ]
        }
      ],
      "source": [
        "!wget -O ADSSession2Task2Data.csv https://raw.githubusercontent.com/CUSP2022ADS/Data/main/ADSSession2Task2Data.csv"
      ]
    },
    {
      "cell_type": "code",
      "execution_count": 122,
      "metadata": {
        "colab": {
          "base_uri": "https://localhost:8080/",
          "height": 423
        },
        "id": "GOg-lxxf2Q9K",
        "outputId": "cd0a489d-8cfc-4678-beba-547347a57c62"
      },
      "outputs": [
        {
          "data": {
            "text/html": [
              "\n",
              "  <div id=\"df-b71e5cc0-b253-41bf-b507-170e2ea8d838\">\n",
              "    <div class=\"colab-df-container\">\n",
              "      <div>\n",
              "<style scoped>\n",
              "    .dataframe tbody tr th:only-of-type {\n",
              "        vertical-align: middle;\n",
              "    }\n",
              "\n",
              "    .dataframe tbody tr th {\n",
              "        vertical-align: top;\n",
              "    }\n",
              "\n",
              "    .dataframe thead th {\n",
              "        text-align: right;\n",
              "    }\n",
              "</style>\n",
              "<table border=\"1\" class=\"dataframe\">\n",
              "  <thead>\n",
              "    <tr style=\"text-align: right;\">\n",
              "      <th></th>\n",
              "      <th>Type</th>\n",
              "      <th>Value</th>\n",
              "      <th>Select</th>\n",
              "    </tr>\n",
              "  </thead>\n",
              "  <tbody>\n",
              "    <tr>\n",
              "      <th>0</th>\n",
              "      <td>0</td>\n",
              "      <td>0.1488486295446153</td>\n",
              "      <td>0</td>\n",
              "    </tr>\n",
              "    <tr>\n",
              "      <th>1</th>\n",
              "      <td>3</td>\n",
              "      <td>0.2198529412734188</td>\n",
              "      <td>1</td>\n",
              "    </tr>\n",
              "    <tr>\n",
              "      <th>2</th>\n",
              "      <td>7</td>\n",
              "      <td>0.15871379686112896</td>\n",
              "      <td>0</td>\n",
              "    </tr>\n",
              "    <tr>\n",
              "      <th>3</th>\n",
              "      <td>0</td>\n",
              "      <td>0.9980337347337275</td>\n",
              "      <td>1</td>\n",
              "    </tr>\n",
              "    <tr>\n",
              "      <th>4</th>\n",
              "      <td>3</td>\n",
              "      <td>0.4923200916998063</td>\n",
              "      <td>0</td>\n",
              "    </tr>\n",
              "    <tr>\n",
              "      <th>...</th>\n",
              "      <td>...</td>\n",
              "      <td>...</td>\n",
              "      <td>...</td>\n",
              "    </tr>\n",
              "    <tr>\n",
              "      <th>11997</th>\n",
              "      <td>8</td>\n",
              "      <td>0.9252856634364992</td>\n",
              "      <td>0</td>\n",
              "    </tr>\n",
              "    <tr>\n",
              "      <th>11998</th>\n",
              "      <td>6</td>\n",
              "      <td>0.12564358624103245</td>\n",
              "      <td>1</td>\n",
              "    </tr>\n",
              "    <tr>\n",
              "      <th>11999</th>\n",
              "      <td>7</td>\n",
              "      <td>0.9328986651807677</td>\n",
              "      <td>0</td>\n",
              "    </tr>\n",
              "    <tr>\n",
              "      <th>12000</th>\n",
              "      <td>2</td>\n",
              "      <td>0.2858165168913036</td>\n",
              "      <td>0</td>\n",
              "    </tr>\n",
              "    <tr>\n",
              "      <th>12001</th>\n",
              "      <td>2</td>\n",
              "      <td>0.749003640226192</td>\n",
              "      <td>1</td>\n",
              "    </tr>\n",
              "  </tbody>\n",
              "</table>\n",
              "<p>12002 rows × 3 columns</p>\n",
              "</div>\n",
              "      <button class=\"colab-df-convert\" onclick=\"convertToInteractive('df-b71e5cc0-b253-41bf-b507-170e2ea8d838')\"\n",
              "              title=\"Convert this dataframe to an interactive table.\"\n",
              "              style=\"display:none;\">\n",
              "        \n",
              "  <svg xmlns=\"http://www.w3.org/2000/svg\" height=\"24px\"viewBox=\"0 0 24 24\"\n",
              "       width=\"24px\">\n",
              "    <path d=\"M0 0h24v24H0V0z\" fill=\"none\"/>\n",
              "    <path d=\"M18.56 5.44l.94 2.06.94-2.06 2.06-.94-2.06-.94-.94-2.06-.94 2.06-2.06.94zm-11 1L8.5 8.5l.94-2.06 2.06-.94-2.06-.94L8.5 2.5l-.94 2.06-2.06.94zm10 10l.94 2.06.94-2.06 2.06-.94-2.06-.94-.94-2.06-.94 2.06-2.06.94z\"/><path d=\"M17.41 7.96l-1.37-1.37c-.4-.4-.92-.59-1.43-.59-.52 0-1.04.2-1.43.59L10.3 9.45l-7.72 7.72c-.78.78-.78 2.05 0 2.83L4 21.41c.39.39.9.59 1.41.59.51 0 1.02-.2 1.41-.59l7.78-7.78 2.81-2.81c.8-.78.8-2.07 0-2.86zM5.41 20L4 18.59l7.72-7.72 1.47 1.35L5.41 20z\"/>\n",
              "  </svg>\n",
              "      </button>\n",
              "      \n",
              "  <style>\n",
              "    .colab-df-container {\n",
              "      display:flex;\n",
              "      flex-wrap:wrap;\n",
              "      gap: 12px;\n",
              "    }\n",
              "\n",
              "    .colab-df-convert {\n",
              "      background-color: #E8F0FE;\n",
              "      border: none;\n",
              "      border-radius: 50%;\n",
              "      cursor: pointer;\n",
              "      display: none;\n",
              "      fill: #1967D2;\n",
              "      height: 32px;\n",
              "      padding: 0 0 0 0;\n",
              "      width: 32px;\n",
              "    }\n",
              "\n",
              "    .colab-df-convert:hover {\n",
              "      background-color: #E2EBFA;\n",
              "      box-shadow: 0px 1px 2px rgba(60, 64, 67, 0.3), 0px 1px 3px 1px rgba(60, 64, 67, 0.15);\n",
              "      fill: #174EA6;\n",
              "    }\n",
              "\n",
              "    [theme=dark] .colab-df-convert {\n",
              "      background-color: #3B4455;\n",
              "      fill: #D2E3FC;\n",
              "    }\n",
              "\n",
              "    [theme=dark] .colab-df-convert:hover {\n",
              "      background-color: #434B5C;\n",
              "      box-shadow: 0px 1px 3px 1px rgba(0, 0, 0, 0.15);\n",
              "      filter: drop-shadow(0px 1px 2px rgba(0, 0, 0, 0.3));\n",
              "      fill: #FFFFFF;\n",
              "    }\n",
              "  </style>\n",
              "\n",
              "      <script>\n",
              "        const buttonEl =\n",
              "          document.querySelector('#df-b71e5cc0-b253-41bf-b507-170e2ea8d838 button.colab-df-convert');\n",
              "        buttonEl.style.display =\n",
              "          google.colab.kernel.accessAllowed ? 'block' : 'none';\n",
              "\n",
              "        async function convertToInteractive(key) {\n",
              "          const element = document.querySelector('#df-b71e5cc0-b253-41bf-b507-170e2ea8d838');\n",
              "          const dataTable =\n",
              "            await google.colab.kernel.invokeFunction('convertToInteractive',\n",
              "                                                     [key], {});\n",
              "          if (!dataTable) return;\n",
              "\n",
              "          const docLinkHtml = 'Like what you see? Visit the ' +\n",
              "            '<a target=\"_blank\" href=https://colab.research.google.com/notebooks/data_table.ipynb>data table notebook</a>'\n",
              "            + ' to learn more about interactive tables.';\n",
              "          element.innerHTML = '';\n",
              "          dataTable['output_type'] = 'display_data';\n",
              "          await google.colab.output.renderOutput(dataTable, element);\n",
              "          const docLink = document.createElement('div');\n",
              "          docLink.innerHTML = docLinkHtml;\n",
              "          element.appendChild(docLink);\n",
              "        }\n",
              "      </script>\n",
              "    </div>\n",
              "  </div>\n",
              "  "
            ],
            "text/plain": [
              "      Type                Value Select\n",
              "0        0   0.1488486295446153      0\n",
              "1        3   0.2198529412734188      1\n",
              "2        7  0.15871379686112896      0\n",
              "3        0   0.9980337347337275      1\n",
              "4        3   0.4923200916998063      0\n",
              "...    ...                  ...    ...\n",
              "11997    8   0.9252856634364992      0\n",
              "11998    6  0.12564358624103245      1\n",
              "11999    7   0.9328986651807677      0\n",
              "12000    2   0.2858165168913036      0\n",
              "12001    2    0.749003640226192      1\n",
              "\n",
              "[12002 rows x 3 columns]"
            ]
          },
          "execution_count": 122,
          "metadata": {},
          "output_type": "execute_result"
        }
      ],
      "source": [
        "Session=pd.read_csv('ADSSession2Task2Data.csv')\n",
        "Session"
      ]
    },
    {
      "cell_type": "markdown",
      "metadata": {
        "id": "AVPHqUiCCYlc"
      },
      "source": [
        "Apply the chunk and MapReduce method to sum up each type's value in the synthetic dataset—only keep records which $Select$ value is 1, and read 1000 lines in each chunk. Use multiprocessing package to deploy the task to multi-cores. The output should only have two columns: type and total value.\n",
        "\n",
        "Hint: filter function is not available in multiprocessing, implement an if-else function in the map or reduce step."
      ]
    },
    {
      "cell_type": "code",
      "execution_count": 149,
      "metadata": {
        "id": "kNDlVuar3ZFq"
      },
      "outputs": [],
      "source": [
        "def returnInfo(record): \n",
        "    return(record['Type'],record['Value'],record['Select'])\n",
        "\n",
        "\n",
        "\n",
        "def ValueList(result,record):\n",
        "    Type,Value,Select=record[0],record[1],record[2]\n",
        "    if Select == '1':\n",
        "        result[Type]=result.get(Type,[])+[Value]\n",
        "    return result\n",
        "\n",
        "def sumvalue(record):\n",
        "    Type,Value=record[0],map(eval,record[1])\n",
        "    return [Type,sum(Value)]"
      ]
    },
    {
      "cell_type": "code",
      "execution_count": 130,
      "metadata": {
        "colab": {
          "base_uri": "https://localhost:8080/"
        },
        "id": "1uTfVBa04lMU",
        "outputId": "64c302e6-7c21-4315-9c27-51f9060762df"
      },
      "outputs": [
        {
          "data": {
            "text/plain": [
              "[('0', '0.1488486295446153', '0'),\n",
              " ('3', '0.2198529412734188', '1'),\n",
              " ('7', '0.15871379686112896', '0')]"
            ]
          },
          "execution_count": 130,
          "metadata": {},
          "output_type": "execute_result"
        }
      ],
      "source": [
        "with open('ADSSession2Task2Data.csv', 'r') as fi:\n",
        "    reader = csv.DictReader(fi)\n",
        "    output4 = list(map(returnInfo,reader))\n",
        "output4[:3]"
      ]
    },
    {
      "cell_type": "code",
      "execution_count": 150,
      "metadata": {
        "colab": {
          "base_uri": "https://localhost:8080/"
        },
        "id": "VxWPxrS_-OCN",
        "outputId": "22da0d6c-8e85-4325-b8c9-9c84fc558bad"
      },
      "outputs": [
        {
          "data": {
            "text/plain": [
              "[['3', 294.32549925839936],\n",
              " ['0', 306.7099300824748],\n",
              " ['1', 316.7932728146584],\n",
              " ['9', 291.6814692769261],\n",
              " ['6', 302.75696574193245],\n",
              " ['7', 280.60299453618256],\n",
              " ['8', 274.59708283852575],\n",
              " ['5', 302.42642204212103],\n",
              " ['4', 320.75381401520707],\n",
              " ['2', 286.0854868555856]]"
            ]
          },
          "execution_count": 150,
          "metadata": {},
          "output_type": "execute_result"
        }
      ],
      "source": [
        "list(map(sumvalue,list(reduce(ValueList,output4,{}).items())))"
      ]
    },
    {
      "cell_type": "code",
      "execution_count": null,
      "metadata": {
        "id": "EWdXusVrAxfJ"
      },
      "outputs": [],
      "source": [
        "list(pool.map(sumvalue,list(reduce(ValueList,pool.map(returnInfo,reader)),{}).items()))"
      ]
    },
    {
      "cell_type": "code",
      "execution_count": 166,
      "metadata": {
        "id": "vA1CZb50APWe"
      },
      "outputs": [],
      "source": [
        "with open('ADSSession2Task2Data.csv', 'r') as fi:\n",
        "    reader = csv.DictReader(fi)\n",
        "    chunk = []\n",
        "    result = []\n",
        "    \n",
        "    chunksize = 1000\n",
        "    pool = Pool(8)\n",
        "    for i, line in enumerate(reader):\n",
        "        \n",
        "        if (i % chunksize == 0 and i > 0):\n",
        "            \n",
        "            output = list(pool.map(sumvalue,list(reduce(ValueList,pool.map(returnInfo,chunk),{}).items())))\n",
        "            result += output\n",
        "            chunk = []\n",
        "            \n",
        "        \n",
        "        else:\n",
        "            chunk.append(line)\n",
        "        \n",
        "    # MapReduce function for the last chunk\n",
        "    output = list(pool.map(sumvalue,list(reduce(ValueList,pool.map(returnInfo,reader),{}).items())))\n",
        "    result += output\n",
        "    pool.close()"
      ]
    },
    {
      "cell_type": "code",
      "execution_count": 168,
      "metadata": {
        "id": "dG8fmqKTBxzS"
      },
      "outputs": [],
      "source": [
        "def reduceResults(result,record): #add rides from a new record to the dictionary accumilating type-origin-destination-time ridership\n",
        "    Type,Value= record[0],record[1]\n",
        "\n",
        "    result[Type] = result.get(Type,0) + Value\n",
        "\n",
        "    return result"
      ]
    },
    {
      "cell_type": "code",
      "execution_count": 170,
      "metadata": {
        "id": "ivZCrD-MC4Lm"
      },
      "outputs": [],
      "source": [
        "output=list(reduce(reduceResults,result,{}).items())"
      ]
    },
    {
      "cell_type": "code",
      "execution_count": 172,
      "metadata": {
        "id": "klxSMwcqCYld"
      },
      "outputs": [],
      "source": [
        "'''grading function\n",
        "please pass your output into this function and upload the generated csv file \n",
        "together with your notebook to your GitHub repo'''\n",
        "\n",
        "def grading(output):\n",
        "    import pandas as pd\n",
        "    pd.DataFrame(output,columns=['Type','Value']).to_csv('output2.csv',index=False)\n",
        "\n",
        "grading(output)"
      ]
    }
  ],
  "metadata": {
    "colab": {
      "name": "MapReduce_homework.ipynb",
      "provenance": []
    },
    "kernelspec": {
      "display_name": "py39",
      "language": "python",
      "name": "py39"
    },
    "language_info": {
      "codemirror_mode": {
        "name": "ipython",
        "version": 3
      },
      "file_extension": ".py",
      "mimetype": "text/x-python",
      "name": "python",
      "nbconvert_exporter": "python",
      "pygments_lexer": "ipython3",
      "version": "3.9.7"
    }
  },
  "nbformat": 4,
  "nbformat_minor": 0
}
